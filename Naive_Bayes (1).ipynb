{
 "cells": [
  {
   "attachments": {},
   "cell_type": "markdown",
   "id": "495b74f6-bcd3-404d-8ea6-3ed598caea51",
   "metadata": {},
   "source": [
    "Naive Bayes"
   ]
  },
  {
   "cell_type": "code",
   "execution_count": 87,
   "id": "7ae4c1ae-c686-45e3-a7a6-e02106627be0",
   "metadata": {},
   "outputs": [],
   "source": [
    "import pandas as pd\n",
    "import numpy as np"
   ]
  },
  {
   "cell_type": "code",
   "execution_count": 128,
   "id": "801ded13-5962-43ac-a3ed-ed801610a6d4",
   "metadata": {},
   "outputs": [
    {
     "name": "stdout",
     "output_type": "stream",
     "text": [
      "                                                  Heading  category\n",
      "0       Maury Wills, who helped the Los Angeles Dodger...        10\n",
      "1       For the past 18 months, Hollywood has effectiv...         3\n",
      "2       President issues vow as tensions with China rise.         7\n",
      "3       An annual celebration took on a different feel...         7\n",
      "4       Las Vegas never had a professional sports cham...        10\n",
      "...                                                   ...       ...\n",
      "190205                                A prequel of sorts?         6\n",
      "190206  The GOP presidential hopeful just nabbed the s...         0\n",
      "190207  A handcuffed Grimes stopped struggling only wh...         5\n",
      "190208  How old is \"old enough\" to receive fair treatm...         3\n",
      "190209                             You wake up, flawless.        10\n",
      "\n",
      "[173055 rows x 2 columns]\n",
      "<class 'pandas.core.frame.DataFrame'>\n"
     ]
    }
   ],
   "source": [
    "import pickle\n",
    "file = 'News.pkl'\n",
    "fileobj = open(file, 'rb')\n",
    "df = pickle.load(fileobj)\n",
    "fileobj.close()\n",
    "\n",
    "print(df)\n",
    "print(type(df))"
   ]
  },
  {
   "cell_type": "code",
   "execution_count": 129,
   "id": "0b9f3e92-8294-4fbe-bb99-950b950057bd",
   "metadata": {},
   "outputs": [],
   "source": [
    "X = df['Heading']\n",
    "y = df['category']"
   ]
  },
  {
   "cell_type": "code",
   "execution_count": 130,
   "id": "e45c3092-11c1-45f3-b4c5-99630089125e",
   "metadata": {},
   "outputs": [
    {
     "data": {
      "text/plain": [
       "0         Maury Wills, who helped the Los Angeles Dodger...\n",
       "1         For the past 18 months, Hollywood has effectiv...\n",
       "2         President issues vow as tensions with China rise.\n",
       "3         An annual celebration took on a different feel...\n",
       "4         Las Vegas never had a professional sports cham...\n",
       "                                ...                        \n",
       "190205                                  A prequel of sorts?\n",
       "190206    The GOP presidential hopeful just nabbed the s...\n",
       "190207    A handcuffed Grimes stopped struggling only wh...\n",
       "190208    How old is \"old enough\" to receive fair treatm...\n",
       "190209                               You wake up, flawless.\n",
       "Name: Heading, Length: 173055, dtype: object"
      ]
     },
     "execution_count": 130,
     "metadata": {},
     "output_type": "execute_result"
    }
   ],
   "source": [
    "X"
   ]
  },
  {
   "cell_type": "code",
   "execution_count": 131,
   "id": "d56026ec-e10c-4c55-8800-774acf3a57cd",
   "metadata": {},
   "outputs": [
    {
     "data": {
      "text/plain": [
       "0         10\n",
       "1          3\n",
       "2          7\n",
       "3          7\n",
       "4         10\n",
       "          ..\n",
       "190205     6\n",
       "190206     0\n",
       "190207     5\n",
       "190208     3\n",
       "190209    10\n",
       "Name: category, Length: 173055, dtype: int64"
      ]
     },
     "execution_count": 131,
     "metadata": {},
     "output_type": "execute_result"
    }
   ],
   "source": [
    "y"
   ]
  },
  {
   "cell_type": "code",
   "execution_count": 132,
   "id": "54a5ec2f-53b1-4925-ac19-3697b3f4a163",
   "metadata": {},
   "outputs": [
    {
     "name": "stdout",
     "output_type": "stream",
     "text": [
      "Accuracy: 0.2942128225130739\n",
      "Classification Report:\n",
      "               precision    recall  f1-score   support\n",
      "\n",
      "           0       0.07      0.00      0.00      2660\n",
      "           1       0.00      0.00      0.00       559\n",
      "           2       0.00      0.00      0.00       180\n",
      "           3       0.30      0.57      0.39      5772\n",
      "           4       0.00      0.00      0.00       287\n",
      "           5       0.00      0.00      0.00      2732\n",
      "           6       0.05      0.00      0.00      2792\n",
      "           7       0.27      0.87      0.41      6499\n",
      "           8       0.26      0.03      0.06       334\n",
      "           9       0.58      0.01      0.01      1095\n",
      "          10       0.31      0.11      0.16      4145\n",
      "          11       0.09      0.00      0.00      2795\n",
      "          12       0.73      0.38      0.50      1883\n",
      "          13       0.12      0.00      0.00      2878\n",
      "\n",
      "    accuracy                           0.29     34611\n",
      "   macro avg       0.20      0.14      0.11     34611\n",
      "weighted avg       0.23      0.29      0.19     34611\n",
      "\n"
     ]
    },
    {
     "name": "stderr",
     "output_type": "stream",
     "text": [
      "C:\\Users\\nagoo\\OneDrive\\WorkShop\\nagoor\\Lib\\site-packages\\sklearn\\metrics\\_classification.py:1531: UndefinedMetricWarning: Precision is ill-defined and being set to 0.0 in labels with no predicted samples. Use `zero_division` parameter to control this behavior.\n",
      "  _warn_prf(average, modifier, f\"{metric.capitalize()} is\", len(result))\n",
      "C:\\Users\\nagoo\\OneDrive\\WorkShop\\nagoor\\Lib\\site-packages\\sklearn\\metrics\\_classification.py:1531: UndefinedMetricWarning: Precision is ill-defined and being set to 0.0 in labels with no predicted samples. Use `zero_division` parameter to control this behavior.\n",
      "  _warn_prf(average, modifier, f\"{metric.capitalize()} is\", len(result))\n",
      "C:\\Users\\nagoo\\OneDrive\\WorkShop\\nagoor\\Lib\\site-packages\\sklearn\\metrics\\_classification.py:1531: UndefinedMetricWarning: Precision is ill-defined and being set to 0.0 in labels with no predicted samples. Use `zero_division` parameter to control this behavior.\n",
      "  _warn_prf(average, modifier, f\"{metric.capitalize()} is\", len(result))\n"
     ]
    }
   ],
   "source": [
    "import pandas as pd\n",
    "from sklearn.feature_extraction.text import TfidfVectorizer\n",
    "from sklearn.naive_bayes import MultinomialNB\n",
    "from sklearn.model_selection import train_test_split\n",
    "from sklearn.metrics import accuracy_score, classification_report\n",
    "\n",
    "# Sample data: documents and their associated labels\n",
    "documents = X\n",
    "labels = y\n",
    "\n",
    "# Convert text documents to TF-IDF features\n",
    "vectorizer = TfidfVectorizer()\n",
    "X = vectorizer.fit_transform(documents)\n",
    "\n",
    "# Split data into training and testing sets\n",
    "X_train, X_test, y_train, y_test = train_test_split(X, labels, test_size=0.20, random_state=100)\n",
    "\n",
    "# Initialize and train the Multinomial Naive Bayes classifier with Laplace smoothing (alpha=1)\n",
    "clf = MultinomialNB(alpha = 1.0)\n",
    "clf.fit(X_train, y_train)\n",
    "\n",
    "# Predict the labels for the test set\n",
    "y_pred = clf.predict(X_test)\n",
    "\n",
    "# Evaluate the classifier\n",
    "print(\"Accuracy:\", accuracy_score(y_test, y_pred))\n",
    "print(\"Classification Report:\\n\", classification_report(y_test, y_pred))\n"
   ]
  },
  {
   "cell_type": "code",
   "execution_count": 103,
   "id": "50f505ce-110a-405c-b4a3-686b1377c6e2",
   "metadata": {},
   "outputs": [
    {
     "name": "stdin",
     "output_type": "stream",
     "text": [
      "News Headlines :  dhoni\n"
     ]
    },
    {
     "name": "stdout",
     "output_type": "stream",
     "text": [
      "News Category :  Politics\n"
     ]
    }
   ],
   "source": [
    "encoded = {0: 'Business', 1: 'Crime', 2: 'Education', 3: 'Entertainment', 4: 'Environment', 5: 'Health', 6: 'Nation',\n",
    "            7: 'Politics', 8: 'Religion', 9: 'Science', 10: 'Sports', 11: 'Technology', 12: 'Travel', 13: 'World'}\n",
    "user_headlines = [input(\"News Headlines : \")]\n",
    "headlines_count = vectorizer.transform(user_headlines)\n",
    "prediction = clf.predict(headlines_count)\n",
    "\n",
    "print(\"News Category : \", encoded[prediction[0]])"
   ]
  },
  {
   "cell_type": "code",
   "execution_count": 104,
   "id": "23a7cb72-5f46-4b16-911a-84469320277c",
   "metadata": {},
   "outputs": [],
   "source": [
    "#creating a pickle file for final model evaluation\n",
    "import pickle"
   ]
  },
  {
   "cell_type": "code",
   "execution_count": 105,
   "id": "4a15eba8-9eef-468e-9b33-d1032dd3b452",
   "metadata": {},
   "outputs": [],
   "source": [
    "with open('News.pkl', 'wb') as f:\n",
    "    pickle.dump(clf, f)"
   ]
  },
  {
   "cell_type": "code",
   "execution_count": null,
   "id": "8c163ebf-9f93-4cf1-815b-960ed0928ecd",
   "metadata": {},
   "outputs": [],
   "source": []
  }
 ],
 "metadata": {
  "kernelspec": {
   "display_name": "Python 3 (ipykernel)",
   "language": "python",
   "name": "python3"
  },
  "language_info": {
   "codemirror_mode": {
    "name": "ipython",
    "version": 3
   },
   "file_extension": ".py",
   "mimetype": "text/x-python",
   "name": "python",
   "nbconvert_exporter": "python",
   "pygments_lexer": "ipython3",
   "version": "3.11.4"
  }
 },
 "nbformat": 4,
 "nbformat_minor": 5
}
