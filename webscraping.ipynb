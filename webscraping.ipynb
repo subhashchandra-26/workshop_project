{
 "cells": [
  {
   "cell_type": "code",
   "execution_count": 1,
   "id": "5274a7b0-6013-424d-84e7-9f2b5911a94b",
   "metadata": {
    "jupyter": {
     "source_hidden": true
    }
   },
   "outputs": [],
   "source": [
    "#Extracting the data from the news webpage "
   ]
  },
  {
   "cell_type": "code",
   "execution_count": 7,
   "id": "76496be0-c456-478c-9440-a872457e45e8",
   "metadata": {
    "scrolled": true
   },
   "outputs": [
    {
     "name": "stdout",
     "output_type": "stream",
     "text": [
      "Requirement already satisfied: beautifulsoup4 in c:\\users\\subha\\onedrive\\workshop\\subhash\\lib\\site-packages (4.12.3)\n",
      "Requirement already satisfied: soupsieve>1.2 in c:\\users\\subha\\onedrive\\workshop\\subhash\\lib\\site-packages (from beautifulsoup4) (2.6)\n"
     ]
    },
    {
     "name": "stderr",
     "output_type": "stream",
     "text": [
      "\n",
      "[notice] A new release of pip is available: 24.1 -> 24.2\n",
      "[notice] To update, run: python.exe -m pip install --upgrade pip\n"
     ]
    }
   ],
   "source": [
    "!pip install beautifulsoup4"
   ]
  },
  {
   "cell_type": "code",
   "execution_count": 50,
   "id": "fe181a66-b32d-4431-9010-e1dccfe2a8b0",
   "metadata": {},
   "outputs": [],
   "source": [
    "import bs4\n",
    "import requests"
   ]
  },
  {
   "cell_type": "code",
   "execution_count": 51,
   "id": "48904c97-bf0c-4654-9005-f5026c399d67",
   "metadata": {},
   "outputs": [],
   "source": [
    "from bs4 import BeautifulSoup"
   ]
  },
  {
   "cell_type": "code",
   "execution_count": 64,
   "id": "ff815d46-b22d-4591-8819-b899dc389009",
   "metadata": {},
   "outputs": [],
   "source": [
    "urls={}"
   ]
  },
  {
   "cell_type": "code",
   "execution_count": 65,
   "id": "8f26d85d-12f0-4722-af51-b9953ea249b0",
   "metadata": {},
   "outputs": [],
   "source": [
    "urls.update({\"World\" : \"https://news.google.com/topics/CAAqKggKIiRDQkFTRlFvSUwyMHZNRGx1YlY4U0JXVnVMVWRDR2dKSlRpZ0FQAQ?hl=en-IN&gl=IN&ceid=IN%3Aen\"})\n",
    "urls.update({\"Tecnology\" : \"https://news.google.com/topics/CAAqKggKIiRDQkFTRlFvSUwyMHZNRGRqTVhZU0JXVnVMVWRDR2dKSlRpZ0FQAQ?hl=en-IN&gl=IN&ceid=IN%3Aen\"})\n",
    "urls.update({\"Business\" : \"https://news.google.com/topics/CAAqKggKIiRDQkFTRlFvSUwyMHZNRGx6TVdZU0JXVnVMVWRDR2dKSlRpZ0FQAQ?hl=en-IN&gl=IN&ceid=IN%3Aen\"})\n",
    "urls.update({\"Entertainment\" : \"https://news.google.com/topics/CAAqKggKIiRDQkFTRlFvSUwyMHZNREpxYW5RU0JXVnVMVWRDR2dKSlRpZ0FQAQ?hl=en-IN&gl=IN&ceid=IN%3Aen\"})\n",
    "urls.update({\"Sports\" : \"https://news.google.com/topics/CAAqKggKIiRDQkFTRlFvSUwyMHZNRFp1ZEdvU0JXVnVMVWRDR2dKSlRpZ0FQAQ?hl=en-IN&gl=IN&ceid=IN%3Aen\"})\n",
    "urls.update({\"Science\" : \"https://news.google.com/topics/CAAqKggKIiRDQkFTRlFvSUwyMHZNRFp0Y1RjU0JXVnVMVWRDR2dKSlRpZ0FQAQ?hl=en-IN&gl=IN&ceid=IN%3Aen\"})\n",
    "urls.update({\"Health\" : \"https://news.google.com/topics/CAAqJQgKIh9DQkFTRVFvSUwyMHZNR3QwTlRFU0JXVnVMVWRDS0FBUAE?hl=en-IN&gl=IN&ceid=IN%3Aen\"})"
   ]
  },
  {
   "cell_type": "code",
   "execution_count": 66,
   "id": "481ac36f-e2de-4ebf-9e34-ac01a3fafd9d",
   "metadata": {},
   "outputs": [],
   "source": [
    "category=[]\n",
    "headline=[]"
   ]
  },
  {
   "cell_type": "code",
   "execution_count": 67,
   "id": "03049349-4e90-4a52-ac2e-088290490016",
   "metadata": {},
   "outputs": [
    {
     "name": "stdout",
     "output_type": "stream",
     "text": [
      "1408\n",
      "1408\n"
     ]
    }
   ],
   "source": [
    "for cat,lin in urls.items():\n",
    "    a = requests.get(lin)\n",
    "    webpage = BeautifulSoup(a.text)\n",
    "\n",
    "    for i in webpage.find_all('a', {'class':'gPFEn'}):\n",
    "        category.append(cat)\n",
    "        headline.append(i.text)\n",
    "\n",
    "print(len(headline))\n",
    "print(len(category))\n",
    "        \n"
   ]
  },
  {
   "cell_type": "code",
   "execution_count": 42,
   "id": "360d9cd5-09b1-4a11-9564-9084916c10d0",
   "metadata": {},
   "outputs": [],
   "source": [
    "topics=[\"sports\",\"world\",\"business\",\"science\",\"politics\",\"style\",\"weather\",\"climate\",\"entertainment\",\"health\",\"travel\",\"auto\",\"education\"]"
   ]
  },
  {
   "cell_type": "code",
   "execution_count": 56,
   "id": "ee21ec0f-3cb7-458f-bdda-8664bc4c214f",
   "metadata": {},
   "outputs": [],
   "source": [
    "cat2=[]\n",
    "head2=[]"
   ]
  },
  {
   "cell_type": "code",
   "execution_count": 57,
   "id": "cea2f4bd-2f8e-4c4c-b19b-a8a4612c1d7a",
   "metadata": {},
   "outputs": [
    {
     "name": "stdout",
     "output_type": "stream",
     "text": [
      "277\n",
      "277\n"
     ]
    }
   ],
   "source": [
    "for i in topics:\n",
    "    base_url=f'https://timesofindia.indiatimes.com/{i}'\n",
    "    b = requests.get(base_url)\n",
    "\n",
    "    wp = BeautifulSoup(b.text)\n",
    "\n",
    "    for j in wp.find_all('div', {'class':'WavNE'}):\n",
    "        cat2.append(i)\n",
    "        head2.append(j.text)  \n",
    "print(len(cat2))\n",
    "print(len(head2))"
   ]
  },
  {
   "cell_type": "code",
   "execution_count": 58,
   "id": "aa525e26-455e-4643-9743-ebf14a5d03f4",
   "metadata": {},
   "outputs": [
    {
     "name": "stdout",
     "output_type": "stream",
     "text": [
      "844\n",
      "844\n"
     ]
    }
   ],
   "source": [
    "for i in topics:\n",
    "    base_url=f'https://edition.cnn.com/{i}'\n",
    "    b = requests.get(base_url)\n",
    "\n",
    "    wp = BeautifulSoup(b.text)\n",
    "\n",
    "    for j in wp.find_all('span', {'class':'container__headline-text'}):\n",
    "        cat2.append(i)\n",
    "        head2.append(j.text)  \n",
    "print(len(cat2))\n",
    "print(len(head2))"
   ]
  },
  {
   "cell_type": "code",
   "execution_count": 59,
   "id": "ce50813c-8627-4a04-a5ae-f98aa50b84d1",
   "metadata": {},
   "outputs": [],
   "source": [
    "import pandas as pd"
   ]
  },
  {
   "cell_type": "code",
   "execution_count": 68,
   "id": "de14dc46-5bc2-4486-94b3-cbc4a1ae39fe",
   "metadata": {},
   "outputs": [],
   "source": [
    "cat=[]\n",
    "head=[]"
   ]
  },
  {
   "cell_type": "code",
   "execution_count": 75,
   "id": "fd854ba6-1342-41e2-a6ca-3e2883112c16",
   "metadata": {},
   "outputs": [
    {
     "name": "stdout",
     "output_type": "stream",
     "text": [
      "244\n",
      "244\n"
     ]
    }
   ],
   "source": [
    "for i in topics:\n",
    "    base_url=f'https://www.bbc.com/{i}'\n",
    "    c = requests.get(base_url)\n",
    "\n",
    "    w = BeautifulSoup(c.text)\n",
    "\n",
    "    for j in w.find_all('p', {'class':'ssrcss-1b1mki6-PromoHeadline exn3ah96'}):\n",
    "        cat.append(i)\n",
    "        head.append(j.text)  \n",
    "print(len(cat))\n",
    "print(len(head))"
   ]
  },
  {
   "cell_type": "code",
   "execution_count": null,
   "id": "cfd115c4-ca92-459f-ad47-2b119cd7a649",
   "metadata": {},
   "outputs": [],
   "source": []
  }
 ],
 "metadata": {
  "kernelspec": {
   "display_name": "Python 3 (ipykernel)",
   "language": "python",
   "name": "python3"
  },
  "language_info": {
   "codemirror_mode": {
    "name": "ipython",
    "version": 3
   },
   "file_extension": ".py",
   "mimetype": "text/x-python",
   "name": "python",
   "nbconvert_exporter": "python",
   "pygments_lexer": "ipython3",
   "version": "3.12.5"
  }
 },
 "nbformat": 4,
 "nbformat_minor": 5
}
